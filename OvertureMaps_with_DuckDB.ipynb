{
 "cells": [
  {
   "cell_type": "code",
   "execution_count": null,
   "id": "b09ab44a",
   "metadata": {},
   "outputs": [],
   "source": [
    "import duckdb\n",
    "import pandas as pd\n",
    "import geopandas as gpd\n",
    "from osgeo import ogr, osr\n",
    "import subprocess\n",
    "import shapely.wkb"
   ]
  },
  {
   "cell_type": "code",
   "execution_count": null,
   "id": "aff4f6e9",
   "metadata": {},
   "outputs": [],
   "source": [
    "db = duckdb.connect(\"duckdb/overturemaps.db\")"
   ]
  },
  {
   "cell_type": "code",
   "execution_count": null,
   "id": "654bfcfb",
   "metadata": {},
   "outputs": [],
   "source": [
    "db.sql(\"\"\"\n",
    "INSTALL spatial;\n",
    "INSTALL httpfs;\n",
    "INSTALL parquet;\n",
    "LOAD spatial;\n",
    "LOAD httpfs;\n",
    "LOAD parquet;\n",
    "\"\"\")"
   ]
  },
  {
   "cell_type": "code",
   "execution_count": null,
   "id": "fd1a7375",
   "metadata": {},
   "outputs": [],
   "source": [
    "%%time\n",
    "#get road data for İstanbul city by identifying a bbox\n",
    "db.sql(f\"\"\"CREATE TABLE roads AS SELECT * FROM 's3://overturemaps-us-west-2/release/2024-07-22.0/theme=transportation/type=segment/*.parquet' WHERE\n",
    "        subtype = 'road'\n",
    "        AND bbox.xmin > 27.9564294411581 AND bbox.xmax < 29.95890758376491\n",
    "        AND bbox.ymin > 40.78740852912713 AND bbox.ymax < 41.59872541544164\n",
    "\"\"\")"
   ]
  },
  {
   "cell_type": "code",
   "execution_count": null,
   "id": "eb4ec2f1",
   "metadata": {},
   "outputs": [],
   "source": [
    "%%time\n",
    "# Export the 'roads' table to Parquet\n",
    "db.sql(\"COPY (SELECT * FROM building) TO 'roads.parquet' (FORMAT 'parquet')\")\n",
    "\n",
    "print(\"Export completed: roads table to roads.parquet\")"
   ]
  },
  {
   "cell_type": "code",
   "execution_count": null,
   "id": "a40bf1e8",
   "metadata": {},
   "outputs": [],
   "source": [
    "%%time\n",
    "# Execute a SELECT query\n",
    "roads = db.sql(\"SELECT * FROM roads\").fetchdf()\n",
    "\n",
    "# Convert the geometry column from bytearray (WKB) to shapely geometry objects\n",
    "roads['geometry'] = roads['geometry'].apply(lambda x: shapely.wkb.loads(bytes(x)))\n",
    "roads\n"
   ]
  },
  {
   "cell_type": "code",
   "execution_count": null,
   "id": "319ba268",
   "metadata": {},
   "outputs": [],
   "source": [
    "gdf = gpd.GeoDataFrame(roads, geometry='geometry')\n",
    "gdf.crs = \"EPSG:4326\"\n",
    "gdf"
   ]
  },
  {
   "cell_type": "code",
   "execution_count": null,
   "id": "13e4a253",
   "metadata": {},
   "outputs": [],
   "source": [
    "gdf.to_file(\"roads.gpkg\", layer='roads', driver=\"GPKG\")"
   ]
  }
 ],
 "metadata": {
  "kernelspec": {
   "display_name": "Python 3 (ipykernel)",
   "language": "python",
   "name": "python3"
  },
  "language_info": {
   "codemirror_mode": {
    "name": "ipython",
    "version": 3
   },
   "file_extension": ".py",
   "mimetype": "text/x-python",
   "name": "python",
   "nbconvert_exporter": "python",
   "pygments_lexer": "ipython3",
   "version": "3.11.9"
  }
 },
 "nbformat": 4,
 "nbformat_minor": 5
}
